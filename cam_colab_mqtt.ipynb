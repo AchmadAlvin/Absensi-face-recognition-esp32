{
  "nbformat": 4,
  "nbformat_minor": 0,
  "metadata": {
    "colab": {
      "provenance": [],
      "authorship_tag": "ABX9TyNwcfsQsz2VOfo1ONIeGFrC",
      "include_colab_link": true
    },
    "kernelspec": {
      "name": "python3",
      "display_name": "Python 3"
    },
    "language_info": {
      "name": "python"
    }
  },
  "cells": [
    {
      "cell_type": "markdown",
      "metadata": {
        "id": "view-in-github",
        "colab_type": "text"
      },
      "source": [
        "<a href=\"https://colab.research.google.com/github/AchmadAlvin/Absensi-face-recognition-esp32/blob/main/cam_colab_mqtt.ipynb\" target=\"_parent\"><img src=\"https://colab.research.google.com/assets/colab-badge.svg\" alt=\"Open In Colab\"/></a>"
      ]
    },
    {
      "cell_type": "code",
      "execution_count": null,
      "metadata": {
        "id": "F9vw1CwiCsmH"
      },
      "outputs": [],
      "source": [
        "!pip install paho-mqtt flask opencv-python numpy requests pyngrok\n",
        "!pip install paho-mqtt opencv-python numpy requests flask\n",
        "!pip install pyngrok\n",
        "!pip install flask opencv-python numpy pyngrok"
      ]
    },
    {
      "cell_type": "code",
      "source": [
        "from pyngrok import ngrok\n",
        "\n",
        "# Ganti token ngrok (jangan lupa buat akun e ya cuy)\n",
        "NGROK_AUTH_TOKEN = \"\"\n",
        "\n",
        "# Setel\n",
        "!ngrok authtoken $NGROK_AUTH_TOKEN\n"
      ],
      "metadata": {
        "id": "OH8PUDQmE__E"
      },
      "execution_count": null,
      "outputs": []
    },
    {
      "cell_type": "code",
      "source": [
        "import cv2\n",
        "import numpy as np\n",
        "import base64\n",
        "import paho.mqtt.client as mqtt\n",
        "from flask import Flask, request\n",
        "from pyngrok import ngrok\n",
        "\n",
        "app = Flask(__name__)\n",
        "\n",
        "# ========== Setup MQTT ==========\n",
        "broker = \"broker.emqx.io\"\n",
        "mqtt_topic = \"la/server/url\"\n",
        "\n",
        "client = mqtt.Client()\n",
        "client.connect(broker, 1883, 60)\n",
        "\n",
        "NGROK_AUTH_TOKEN = \"\"\n",
        "ngrok.set_auth_token(NGROK_AUTH_TOKEN)\n",
        "\n",
        "public_url = ngrok.connect(5000).public_url\n",
        "print(\"Ngrok Public URL:\", public_url)\n",
        "\n",
        "\n",
        "client.publish(mqtt_topic, public_url)\n",
        "print(f\"URL {public_url} berhasil dikirim ke MQTT!\")\n",
        "\n",
        "# get gambar\n",
        "@app.route(\"/\", methods=[\"POST\"])\n",
        "def receive_image():\n",
        "    try:\n",
        "        img_data = request.data  # Terima gambar dari ESP32-CAM\n",
        "        np_arr = np.frombuffer(img_data, np.uint8)\n",
        "        img = cv2.imdecode(np_arr, cv2.IMREAD_COLOR)\n",
        "\n",
        "        # saving\n",
        "        cv2.imwrite(\"received_image.jpg\", img)\n",
        "        print(\"Gambar diterima dan disimpan!\")\n",
        "\n",
        "        # (Nantinya, di sini akan ditambahkan Face Recognition)\n",
        "        return \"Gambar diterima!\", 200\n",
        "    except Exception as e:\n",
        "        print(\"Error:\", e)\n",
        "        return \"Terjadi kesalahan\", 500\n",
        "\n",
        "# Flask\n",
        "if __name__ == \"__main__\":\n",
        "    app.run(host=\"0.0.0.0\", port=5000)\n"
      ],
      "metadata": {
        "id": "vMDSLdg0PQQt"
      },
      "execution_count": null,
      "outputs": []
    }
  ]
}